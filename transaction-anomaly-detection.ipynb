{
 "cells": [
  {
   "cell_type": "markdown",
   "id": "f10c8c39-ee89-4b0d-bdf9-5c1b8654127d",
   "metadata": {},
   "source": [
    "# Transaction Anomaly Detection\n",
    "Transaction Anomaly Detection using unsupervised learning methods is a technique used to identify unusual or suspicious patterns in financial transactions without requiring labeled data for training. Since anomalies are often rare and unpredictable, unsupervised learning is particularly useful when normal and fraudulent transactions aren't clearly categorized.\n",
    "## Importing Required Libraries"
   ]
  },
  {
   "cell_type": "code",
   "execution_count": 3,
   "id": "9c0197f5-cf11-44c7-9c29-a1166b8b16b3",
   "metadata": {},
   "outputs": [],
   "source": [
    "import pandas as pd\n",
    "import numpy as np\n",
    "\n",
    "import seaborn as sns\n",
    "import matplotlib.pyplot as plt"
   ]
  },
  {
   "cell_type": "markdown",
   "id": "b81f4a71-f325-4eed-8321-ae8c8f9a588d",
   "metadata": {},
   "source": [
    "## 1. Data Exploration & Preprocessing\n",
    "### 1.1. Examine the data"
   ]
  },
  {
   "cell_type": "code",
   "execution_count": 4,
   "id": "4caf596d-f053-4325-bf0e-0836aeffc732",
   "metadata": {},
   "outputs": [
    {
     "name": "stdout",
     "output_type": "stream",
     "text": [
      "Shape of the dataset: (13305915, 12)\n",
      "Dataset Info:\n",
      "\n",
      "<class 'pandas.core.frame.DataFrame'>\n",
      "RangeIndex: 13305915 entries, 0 to 13305914\n",
      "Data columns (total 12 columns):\n",
      " #   Column          Dtype  \n",
      "---  ------          -----  \n",
      " 0   id              int64  \n",
      " 1   date            object \n",
      " 2   client_id       int64  \n",
      " 3   card_id         int64  \n",
      " 4   amount          object \n",
      " 5   use_chip        object \n",
      " 6   merchant_id     int64  \n",
      " 7   merchant_city   object \n",
      " 8   merchant_state  object \n",
      " 9   zip             float64\n",
      " 10  mcc             int64  \n",
      " 11  errors          object \n",
      "dtypes: float64(1), int64(5), object(6)\n",
      "memory usage: 1.2+ GB\n",
      "Columns in the dataset: Index(['id', 'date', 'client_id', 'card_id', 'amount', 'use_chip',\n",
      "       'merchant_id', 'merchant_city', 'merchant_state', 'zip', 'mcc',\n",
      "       'errors'],\n",
      "      dtype='object')\n",
      "Data types:\n",
      " id                  int64\n",
      "date               object\n",
      "client_id           int64\n",
      "card_id             int64\n",
      "amount             object\n",
      "use_chip           object\n",
      "merchant_id         int64\n",
      "merchant_city      object\n",
      "merchant_state     object\n",
      "zip               float64\n",
      "mcc                 int64\n",
      "errors             object\n",
      "dtype: object\n",
      "\n",
      "First 5 rows:\n",
      "         id                 date  client_id  card_id   amount  \\\n",
      "0  7475327  2010-01-01 00:01:00       1556     2972  $-77.00   \n",
      "1  7475328  2010-01-01 00:02:00        561     4575   $14.57   \n",
      "2  7475329  2010-01-01 00:02:00       1129      102   $80.00   \n",
      "3  7475331  2010-01-01 00:05:00        430     2860  $200.00   \n",
      "4  7475332  2010-01-01 00:06:00        848     3915   $46.41   \n",
      "\n",
      "            use_chip  merchant_id merchant_city merchant_state      zip   mcc  \\\n",
      "0  Swipe Transaction        59935        Beulah             ND  58523.0  5499   \n",
      "1  Swipe Transaction        67570    Bettendorf             IA  52722.0  5311   \n",
      "2  Swipe Transaction        27092         Vista             CA  92084.0  4829   \n",
      "3  Swipe Transaction        27092   Crown Point             IN  46307.0  4829   \n",
      "4  Swipe Transaction        13051       Harwood             MD  20776.0  5813   \n",
      "\n",
      "  errors  \n",
      "0    NaN  \n",
      "1    NaN  \n",
      "2    NaN  \n",
      "3    NaN  \n",
      "4    NaN  \n"
     ]
    }
   ],
   "source": [
    "# Load the dataset\n",
    "df = pd.read_csv('transactions_data.csv')\n",
    "\n",
    "# Check the shape of the dataset (rows, columns)\n",
    "print(\"Shape of the dataset:\", df.shape)\n",
    "\n",
    "# Get dataset information (column names, non-null counts, data types)\n",
    "print(\"Dataset Info:\\n\")\n",
    "df.info()\n",
    "\n",
    "# List all columns (features)\n",
    "print(\"Columns in the dataset:\", df.columns)\n",
    "\n",
    "# Check data types of each column\n",
    "print(\"Data types:\\n\", df.dtypes)\n",
    "\n",
    "# Display first 5 rows\n",
    "print(\"\\nFirst 5 rows:\\n\", df.head())"
   ]
  },
  {
   "cell_type": "markdown",
   "id": "7c18be4d-ad8c-4257-8d72-1b0263b73d15",
   "metadata": {},
   "source": [
    "The dataset has 12 columns:\n",
    "- `id` & `client_id`: Unique identifiers; likely not useful for anomaly detection directly.\n",
    "- `date`: Transaction timestamps, useful for detecting time-based anomalies.\n",
    "- `card_id`: Helps track spending patterns per card.\n",
    "- `amount`: Critical feature; unusual transaction amounts may indicate fraud.\n",
    "- `use_chip`: Indicates chip usage, which can be relevant for security-based anomalies (e.g., swiping a card in locations that require chips).\n",
    "- `merchant_id` & `merchant_city/state/zip`: Helps identify unusual locations for spending behavior.\n",
    "- `mcc` (Merchant Category Code): Useful for detecting spending in unexpected categories.\n",
    "- `errors`: If this captures transactional errors, it could be a strong anomaly indicator."
   ]
  },
  {
   "cell_type": "markdown",
   "id": "ce268ae7-a58a-4a51-aa39-6e0330b495a5",
   "metadata": {},
   "source": [
    "## 1.2. Data Cleaning\n",
    "### 1.2.1. Summarize Numerical Features\n",
    "For numerical features (e.g., loan amount, interest rate), we calculate descriptive statistics."
   ]
  },
  {
   "cell_type": "code",
   "execution_count": 7,
   "id": "96e5dfc5-809a-4658-a539-7bf7591db402",
   "metadata": {},
   "outputs": [
    {
     "name": "stdout",
     "output_type": "stream",
     "text": [
      "Missing values per column:\n",
      " id                       0\n",
      "date                     0\n",
      "client_id                0\n",
      "card_id                  0\n",
      "amount                   0\n",
      "use_chip                 0\n",
      "merchant_id              0\n",
      "merchant_city            0\n",
      "merchant_state     1563700\n",
      "zip                1652706\n",
      "mcc                      0\n",
      "errors            13094522\n",
      "dtype: int64\n"
     ]
    }
   ],
   "source": [
    "# Total missing values per column\n",
    "print(\"Missing values per column:\\n\", df.isnull().sum())"
   ]
  },
  {
   "cell_type": "markdown",
   "id": "9754c0b3-b3d3-444f-8f39-18b87ea6a526",
   "metadata": {},
   "source": [
    "### 1.2.2. Summarize Categorical Features\n",
    "For categorical features, we check unique values and their frequencies."
   ]
  },
  {
   "cell_type": "code",
   "execution_count": 8,
   "id": "6af5ceac-f6f4-4609-8b3d-89b81775ef67",
   "metadata": {},
   "outputs": [
    {
     "name": "stdout",
     "output_type": "stream",
     "text": [
      "Unique values in date:\n",
      " date\n",
      "2016-03-03 11:42:00    18\n",
      "2011-06-09 12:46:00    18\n",
      "2018-08-18 11:43:00    17\n",
      "2018-07-18 09:38:00    17\n",
      "2018-11-23 07:16:00    17\n",
      "                       ..\n",
      "2010-01-01 00:30:00     1\n",
      "2010-01-01 00:27:00     1\n",
      "2010-01-01 00:26:00     1\n",
      "2010-01-01 00:14:00     1\n",
      "2010-01-01 00:09:00     1\n",
      "Name: count, Length: 4136496, dtype: int64\n",
      "\n",
      "\n",
      "Unique values in amount:\n",
      " amount\n",
      "$80.00      132115\n",
      "$100.00     128867\n",
      "$60.00      101821\n",
      "$120.00      81083\n",
      "$40.00       56856\n",
      "             ...  \n",
      "$389.29          1\n",
      "$1086.70         1\n",
      "$924.98          1\n",
      "$644.69          1\n",
      "$452.77          1\n",
      "Name: count, Length: 81161, dtype: int64\n",
      "\n",
      "\n",
      "Unique values in use_chip:\n",
      " use_chip\n",
      "Swipe Transaction     6967185\n",
      "Chip Transaction      4780818\n",
      "Online Transaction    1557912\n",
      "Name: count, dtype: int64\n",
      "\n",
      "\n",
      "Unique values in merchant_city:\n",
      " merchant_city\n",
      "ONLINE           1563700\n",
      "Houston           146917\n",
      "Miami              87388\n",
      "Brooklyn           84020\n",
      "Los Angeles        82004\n",
      "                  ...   \n",
      "Burnett                1\n",
      "Weaubleau              1\n",
      "Slemp                  1\n",
      "Cornettsville          1\n",
      "London Mills           1\n",
      "Name: count, Length: 12492, dtype: int64\n",
      "\n",
      "\n",
      "Unique values in merchant_state:\n",
      " merchant_state\n",
      "CA            1427087\n",
      "TX            1010207\n",
      "NY             857510\n",
      "FL             701623\n",
      "OH             484122\n",
      "               ...   \n",
      "Ethiopia            3\n",
      "Suriname            3\n",
      "Gabon               3\n",
      "Tonga               2\n",
      "Azerbaijan          2\n",
      "Name: count, Length: 199, dtype: int64\n",
      "\n",
      "\n",
      "Unique values in errors:\n",
      " errors\n",
      "Insufficient Balance                                   130902\n",
      "Bad PIN                                                 32119\n",
      "Technical Glitch                                        26271\n",
      "Bad Card Number                                          7767\n",
      "Bad Expiration                                           6161\n",
      "Bad CVV                                                  6106\n",
      "Bad Zipcode                                              1126\n",
      "Bad PIN,Insufficient Balance                              293\n",
      "Insufficient Balance,Technical Glitch                     243\n",
      "Bad Card Number,Insufficient Balance                       71\n",
      "Bad PIN,Technical Glitch                                   70\n",
      "Bad CVV,Insufficient Balance                               57\n",
      "Bad Expiration,Insufficient Balance                        47\n",
      "Bad Card Number,Bad CVV                                    38\n",
      "Bad Card Number,Bad Expiration                             33\n",
      "Bad Expiration,Bad CVV                                     32\n",
      "Bad Expiration,Technical Glitch                            21\n",
      "Bad Card Number,Technical Glitch                           15\n",
      "Bad CVV,Technical Glitch                                    8\n",
      "Bad Zipcode,Insufficient Balance                            7\n",
      "Bad Zipcode,Technical Glitch                                5\n",
      "Bad Card Number,Bad Expiration,Insufficient Balance         1\n",
      "Name: count, dtype: int64\n",
      "\n",
      "\n"
     ]
    }
   ],
   "source": [
    "# Summary of categorical columns\n",
    "categorical_columns = df.select_dtypes(include=['object']).columns\n",
    "for col in categorical_columns:\n",
    "    print(f\"Unique values in {col}:\\n\", df[col].value_counts())\n",
    "    print(\"\\n\")"
   ]
  },
  {
   "cell_type": "code",
   "execution_count": null,
   "id": "dc0d0b8b-6f4d-4622-ac4d-d05d35106d3e",
   "metadata": {},
   "outputs": [],
   "source": []
  }
 ],
 "metadata": {
  "kernelspec": {
   "display_name": "Python 3 (ipykernel)",
   "language": "python",
   "name": "python3"
  },
  "language_info": {
   "codemirror_mode": {
    "name": "ipython",
    "version": 3
   },
   "file_extension": ".py",
   "mimetype": "text/x-python",
   "name": "python",
   "nbconvert_exporter": "python",
   "pygments_lexer": "ipython3",
   "version": "3.13.2"
  }
 },
 "nbformat": 4,
 "nbformat_minor": 5
}
