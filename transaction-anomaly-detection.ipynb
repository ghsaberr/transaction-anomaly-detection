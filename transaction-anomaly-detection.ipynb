{
 "cells": [
  {
   "cell_type": "markdown",
   "id": "f10c8c39-ee89-4b0d-bdf9-5c1b8654127d",
   "metadata": {},
   "source": [
    "# Transaction Anomaly Detection\n",
    "Transaction Anomaly Detection using unsupervised learning methods is a technique used to identify unusual or suspicious patterns in financial transactions without requiring labeled data for training. Since anomalies are often rare and unpredictable, unsupervised learning is particularly useful when normal and fraudulent transactions aren't clearly categorized.\n",
    "## Importing Required Libraries"
   ]
  },
  {
   "cell_type": "code",
   "execution_count": 3,
   "id": "9c0197f5-cf11-44c7-9c29-a1166b8b16b3",
   "metadata": {},
   "outputs": [],
   "source": [
    "import pandas as pd\n",
    "import numpy as np\n",
    "\n",
    "import seaborn as sns\n",
    "import matplotlib.pyplot as plt"
   ]
  },
  {
   "cell_type": "markdown",
   "id": "b81f4a71-f325-4eed-8321-ae8c8f9a588d",
   "metadata": {},
   "source": [
    "## 1. Data Exploration & Preprocessing\n",
    "### 1.1. Examine the data"
   ]
  },
  {
   "cell_type": "code",
   "execution_count": 4,
   "id": "4caf596d-f053-4325-bf0e-0836aeffc732",
   "metadata": {},
   "outputs": [
    {
     "name": "stdout",
     "output_type": "stream",
     "text": [
      "Shape of the dataset: (13305915, 12)\n",
      "Dataset Info:\n",
      "\n",
      "<class 'pandas.core.frame.DataFrame'>\n",
      "RangeIndex: 13305915 entries, 0 to 13305914\n",
      "Data columns (total 12 columns):\n",
      " #   Column          Dtype  \n",
      "---  ------          -----  \n",
      " 0   id              int64  \n",
      " 1   date            object \n",
      " 2   client_id       int64  \n",
      " 3   card_id         int64  \n",
      " 4   amount          object \n",
      " 5   use_chip        object \n",
      " 6   merchant_id     int64  \n",
      " 7   merchant_city   object \n",
      " 8   merchant_state  object \n",
      " 9   zip             float64\n",
      " 10  mcc             int64  \n",
      " 11  errors          object \n",
      "dtypes: float64(1), int64(5), object(6)\n",
      "memory usage: 1.2+ GB\n",
      "Columns in the dataset: Index(['id', 'date', 'client_id', 'card_id', 'amount', 'use_chip',\n",
      "       'merchant_id', 'merchant_city', 'merchant_state', 'zip', 'mcc',\n",
      "       'errors'],\n",
      "      dtype='object')\n",
      "Data types:\n",
      " id                  int64\n",
      "date               object\n",
      "client_id           int64\n",
      "card_id             int64\n",
      "amount             object\n",
      "use_chip           object\n",
      "merchant_id         int64\n",
      "merchant_city      object\n",
      "merchant_state     object\n",
      "zip               float64\n",
      "mcc                 int64\n",
      "errors             object\n",
      "dtype: object\n",
      "\n",
      "First 5 rows:\n",
      "         id                 date  client_id  card_id   amount  \\\n",
      "0  7475327  2010-01-01 00:01:00       1556     2972  $-77.00   \n",
      "1  7475328  2010-01-01 00:02:00        561     4575   $14.57   \n",
      "2  7475329  2010-01-01 00:02:00       1129      102   $80.00   \n",
      "3  7475331  2010-01-01 00:05:00        430     2860  $200.00   \n",
      "4  7475332  2010-01-01 00:06:00        848     3915   $46.41   \n",
      "\n",
      "            use_chip  merchant_id merchant_city merchant_state      zip   mcc  \\\n",
      "0  Swipe Transaction        59935        Beulah             ND  58523.0  5499   \n",
      "1  Swipe Transaction        67570    Bettendorf             IA  52722.0  5311   \n",
      "2  Swipe Transaction        27092         Vista             CA  92084.0  4829   \n",
      "3  Swipe Transaction        27092   Crown Point             IN  46307.0  4829   \n",
      "4  Swipe Transaction        13051       Harwood             MD  20776.0  5813   \n",
      "\n",
      "  errors  \n",
      "0    NaN  \n",
      "1    NaN  \n",
      "2    NaN  \n",
      "3    NaN  \n",
      "4    NaN  \n"
     ]
    }
   ],
   "source": [
    "# Load the dataset\n",
    "df = pd.read_csv('transactions_data.csv')\n",
    "\n",
    "# Check the shape of the dataset (rows, columns)\n",
    "print(\"Shape of the dataset:\", df.shape)\n",
    "\n",
    "# Get dataset information (column names, non-null counts, data types)\n",
    "print(\"Dataset Info:\\n\")\n",
    "df.info()\n",
    "\n",
    "# List all columns (features)\n",
    "print(\"Columns in the dataset:\", df.columns)\n",
    "\n",
    "# Check data types of each column\n",
    "print(\"Data types:\\n\", df.dtypes)\n",
    "\n",
    "# Display first 5 rows\n",
    "print(\"\\nFirst 5 rows:\\n\", df.head())"
   ]
  },
  {
   "cell_type": "markdown",
   "id": "7c18be4d-ad8c-4257-8d72-1b0263b73d15",
   "metadata": {},
   "source": [
    "The dataset has 12 columns. MCC (Merchant Category Code) is a four-digit number used by credit card networks (like Visa, Mastercard, etc.) to classify businesses by the types of goods or services they provide."
   ]
  },
  {
   "cell_type": "markdown",
   "id": "ce268ae7-a58a-4a51-aa39-6e0330b495a5",
   "metadata": {},
   "source": [
    "## 1.2. Data Cleaning"
   ]
  },
  {
   "cell_type": "code",
   "execution_count": null,
   "id": "e42d6c7f-30cf-40e5-8859-79f018f3718f",
   "metadata": {},
   "outputs": [],
   "source": []
  }
 ],
 "metadata": {
  "kernelspec": {
   "display_name": "Python 3 (ipykernel)",
   "language": "python",
   "name": "python3"
  },
  "language_info": {
   "codemirror_mode": {
    "name": "ipython",
    "version": 3
   },
   "file_extension": ".py",
   "mimetype": "text/x-python",
   "name": "python",
   "nbconvert_exporter": "python",
   "pygments_lexer": "ipython3",
   "version": "3.13.2"
  }
 },
 "nbformat": 4,
 "nbformat_minor": 5
}
